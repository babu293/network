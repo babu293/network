{
 "cells": [
  {
   "cell_type": "code",
   "execution_count": 1,
   "id": "a24430c4",
   "metadata": {},
   "outputs": [],
   "source": [
    "import tensorflow as tf\n",
    "import tensorflow.keras.layers as tfl\n",
    "import os\n",
    "import numpy as np\n",
    "import datetime\n",
    "import scipy.io\n",
    "from keras.models import Sequential\n",
    "from keras.layers import Conv2D, MaxPooling2D, Flatten, Dense, Dropout"
   ]
  },
  {
   "cell_type": "code",
   "execution_count": 2,
   "id": "79477197",
   "metadata": {},
   "outputs": [],
   "source": [
    "url = \"https://data.vision.ee.ethz.ch/cvl/rrothe/imdb-wiki/static/wiki_crop.tar\"\n",
    "\n",
    "dataset = tf.keras.utils.get_file(\n",
    "    \"wiki_crop\", url,\n",
    "    untar=True, cache_dir='.',\n",
    "    cache_subdir=''\n",
    ")\n",
    "dataset_dir = os.path.join(os.path.dirname(dataset), 'wiki_crop')\n",
    "     "
   ]
  },
  {
   "cell_type": "code",
   "execution_count": 3,
   "id": "3f27e87b",
   "metadata": {},
   "outputs": [],
   "source": [
    "# extract data from wiki.mat\n",
    "mat = scipy.io.loadmat(os.path.join(dataset_dir,'wiki.mat'))"
   ]
  },
  {
   "cell_type": "code",
   "execution_count": 4,
   "id": "259ca766",
   "metadata": {},
   "outputs": [],
   "source": [
    "dob = np.vectorize(lambda x: datetime.datetime.fromordinal(x).year)(\n",
    "    mat[\"wiki\"][\"dob\"][0][0][0]\n",
    ")\n",
    "photo_taken = mat[\"wiki\"][\"photo_taken\"][0][0][0]\n",
    "     "
   ]
  },
  {
   "cell_type": "code",
   "execution_count": 5,
   "id": "beb29f81",
   "metadata": {},
   "outputs": [],
   "source": [
    "age = (photo_taken-dob).astype(np.float32)"
   ]
  },
  {
   "cell_type": "code",
   "execution_count": 6,
   "id": "1276449b",
   "metadata": {},
   "outputs": [],
   "source": [
    "file_path = np.vectorize(lambda x : os.path.join(dataset_dir,x[0]))(\n",
    "    mat[\"wiki\"][\"full_path\"][0][0][0]\n",
    ")"
   ]
  },
  {
   "cell_type": "code",
   "execution_count": 7,
   "id": "0d33f959",
   "metadata": {},
   "outputs": [],
   "source": [
    "file_age_ds = tf.data.Dataset.from_tensor_slices((file_path,age))\n",
    "     \n",
    "\n",
    "def parse_function(filename, label):\n",
    "    image_string = tf.io.read_file(filename)\n",
    "    image_decoded = tf.io.decode_jpeg(image_string,channels=1)\n",
    "    image = tf.image.resize(image_decoded, [256, 256])\n",
    "    return image, tf.expand_dims(label,0)\n",
    "     \n",
    "\n",
    "image_age_ds = file_age_ds.map(parse_function).shuffle(seed=2,buffer_size=64)"
   ]
  },
  {
   "cell_type": "code",
   "execution_count": 8,
   "id": "7c6b3b7d",
   "metadata": {},
   "outputs": [],
   "source": [
    "dataset_size = image_age_ds.cardinality().numpy()\n",
    "     \n",
    "\n",
    "AUTOTUNE = tf.data.AUTOTUNE\n",
    "train_ds = image_age_ds.take(dataset_size*.6).batch(32).prefetch(AUTOTUNE)\n",
    "val_ds = image_age_ds.skip(dataset_size*.6).take(dataset_size*.2).batch(32).prefetch(AUTOTUNE)\n",
    "test_ds = image_age_ds.skip(dataset_size*.8).take(dataset_size*.2).batch(32).prefetch(AUTOTUNE)"
   ]
  },
  {
   "cell_type": "code",
   "execution_count": 9,
   "id": "922035b9",
   "metadata": {},
   "outputs": [],
   "source": [
    "model = tf.keras.Sequential([\n",
    "    tfl.Conv2D(32,(7,7),padding=\"valid\",activation=\"relu\",input_shape=(256,256,1)),\n",
    "    tfl.MaxPool2D((4,4),strides = 4),\n",
    "    tfl.Conv2D(64,(3,3),padding = \"valid\",activation=\"relu\"),\n",
    "    tfl.MaxPool2D((4,4),strides = 4),\n",
    "    tfl.Conv2D(128,(3,3),padding = \"valid\",activation=\"relu\"),\n",
    "    tfl.MaxPool2D((2,2),strides = 2),\n",
    "    tfl.Conv2D(256,(1,1),padding= \"valid\",activation=\"relu\",),\n",
    "    tfl.MaxPool2D((2,2),strides = 2),\n",
    "    tfl.Flatten(),\n",
    "    tfl.Dense(64,activation=\"relu\"),\n",
    "    tfl.Dense(1)                             \n",
    "])"
   ]
  },
  {
   "cell_type": "code",
   "execution_count": 10,
   "id": "2f29b45b",
   "metadata": {},
   "outputs": [
    {
     "name": "stdout",
     "output_type": "stream",
     "text": [
      "Model: \"sequential\"\n",
      "_________________________________________________________________\n",
      " Layer (type)                Output Shape              Param #   \n",
      "=================================================================\n",
      " conv2d (Conv2D)             (None, 250, 250, 32)      1600      \n",
      "                                                                 \n",
      " max_pooling2d (MaxPooling2D  (None, 62, 62, 32)       0         \n",
      " )                                                               \n",
      "                                                                 \n",
      " conv2d_1 (Conv2D)           (None, 60, 60, 64)        18496     \n",
      "                                                                 \n",
      " max_pooling2d_1 (MaxPooling  (None, 15, 15, 64)       0         \n",
      " 2D)                                                             \n",
      "                                                                 \n",
      " conv2d_2 (Conv2D)           (None, 13, 13, 128)       73856     \n",
      "                                                                 \n",
      " max_pooling2d_2 (MaxPooling  (None, 6, 6, 128)        0         \n",
      " 2D)                                                             \n",
      "                                                                 \n",
      " conv2d_3 (Conv2D)           (None, 6, 6, 256)         33024     \n",
      "                                                                 \n",
      " max_pooling2d_3 (MaxPooling  (None, 3, 3, 256)        0         \n",
      " 2D)                                                             \n",
      "                                                                 \n",
      " flatten (Flatten)           (None, 2304)              0         \n",
      "                                                                 \n",
      " dense (Dense)               (None, 64)                147520    \n",
      "                                                                 \n",
      " dense_1 (Dense)             (None, 1)                 65        \n",
      "                                                                 \n",
      "=================================================================\n",
      "Total params: 274,561\n",
      "Trainable params: 274,561\n",
      "Non-trainable params: 0\n",
      "_________________________________________________________________\n"
     ]
    }
   ],
   "source": [
    "model.summary()"
   ]
  },
  {
   "cell_type": "code",
   "execution_count": 11,
   "id": "d477e688",
   "metadata": {},
   "outputs": [],
   "source": [
    "model.compile(\n",
    "    optimizer='adam',\n",
    "    loss=tf.keras.losses.MeanAbsoluteError(),\n",
    "    metrics=['MAE']\n",
    ")"
   ]
  },
  {
   "cell_type": "code",
   "execution_count": 12,
   "id": "4f47f701",
   "metadata": {},
   "outputs": [
    {
     "name": "stdout",
     "output_type": "stream",
     "text": [
      "1169/1169 [==============================] - 1640s 1s/step - loss: 14.1831 - MAE: 14.1831 - val_loss: 13.5661 - val_MAE: 13.5661\n"
     ]
    },
    {
     "data": {
      "text/plain": [
       "<keras.callbacks.History at 0x16a4e4eea10>"
      ]
     },
     "execution_count": 12,
     "metadata": {},
     "output_type": "execute_result"
    }
   ],
   "source": [
    "model.fit(\n",
    "    train_ds,\n",
    "    validation_data=val_ds,\n",
    "    epochs=1,\n",
    "    batch_size = 1024,\n",
    "    callbacks=[\n",
    "        tf.keras.callbacks.TensorBoard(log_dir=\"logs\")\n",
    "    ]\n",
    ")"
   ]
  },
  {
   "cell_type": "code",
   "execution_count": 13,
   "id": "55cc5089",
   "metadata": {},
   "outputs": [
    {
     "name": "stdout",
     "output_type": "stream",
     "text": [
      "390/390 [==============================] - 177s 364ms/step - loss: 14.0276 - MAE: 14.0276\n",
      "Loss:  14.027582168579102\n",
      "Accuracy:  14.027582168579102\n"
     ]
    }
   ],
   "source": [
    "loss, accuracy = model.evaluate(test_ds)\n",
    "\n",
    "print(\"Loss: \", loss)\n",
    "print(\"Accuracy: \", accuracy)"
   ]
  },
  {
   "cell_type": "code",
   "execution_count": 14,
   "id": "eef53989",
   "metadata": {},
   "outputs": [],
   "source": [
    "x = model.predict(test_ds)"
   ]
  },
  {
   "cell_type": "code",
   "execution_count": 23,
   "id": "80b07a19",
   "metadata": {},
   "outputs": [
    {
     "data": {
      "text/plain": [
       "25.228767"
      ]
     },
     "execution_count": 23,
     "metadata": {},
     "output_type": "execute_result"
    }
   ],
   "source": [
    "x[0][0]"
   ]
  },
  {
   "cell_type": "code",
   "execution_count": 24,
   "id": "ea57060b",
   "metadata": {},
   "outputs": [],
   "source": [
    "model.save('age.h5')"
   ]
  },
  {
   "cell_type": "code",
   "execution_count": null,
   "id": "1d980d81",
   "metadata": {},
   "outputs": [],
   "source": []
  }
 ],
 "metadata": {
  "kernelspec": {
   "display_name": "Python 3 (ipykernel)",
   "language": "python",
   "name": "python3"
  },
  "language_info": {
   "codemirror_mode": {
    "name": "ipython",
    "version": 3
   },
   "file_extension": ".py",
   "mimetype": "text/x-python",
   "name": "python",
   "nbconvert_exporter": "python",
   "pygments_lexer": "ipython3",
   "version": "3.10.0"
  }
 },
 "nbformat": 4,
 "nbformat_minor": 5
}

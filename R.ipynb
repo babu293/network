import luigi
import pandas as pd
from sklearn.model_selection import train_test_split
from sklearn.linear_model import LogisticRegression
from sklearn.metrics import accuracy_score

class LoadDataTask(luigi.Task):
    def output(self):
        return luigi.LocalTarget('data.csv')
    
    def run(self):
        # Load data from source and write to output file
        data = pd.read_csv('source_data.csv')
        data.to_csv(self.output().path, index=False)
        
class PreprocessDataTask(luigi.Task):
    def requires(self):
        return LoadDataTask()
    
    def output(self):
        return luigi.LocalTarget('preprocessed_data.csv')
    
    def run(self):
        # Preprocess data and write to output file
        data = pd.read_csv(self.input().path)
        # ...
        data.to_csv(self.output().path, index=False)

class TrainModelTask(luigi.Task):
    def requires(self):
        return PreprocessDataTask()
    
    def output(self):
        return luigi.LocalTarget('model.pkl')
    
    def run(self):
        # Load preprocessed data, train model, and save to output file
        data = pd.read_csv(self.input().path)
        X = data.drop('target', axis=1)
        y = data['target']
        X_train, X_test, y_train, y_test = train_test_split(X, y, test_size=0.2)
        model = LogisticRegression()
        model.fit(X_train, y_train)
        y_pred = model.predict(X_test)
        score = accuracy_score(y_test, y_pred)
        with self.output().open('w') as f:
            f.write(str(score))
class MyPipeline(luigi.WrapperTask):
    def requires(self):
        return TrainModelTask()
if __name__ == '__main__':
    luigi.build([MyPipeline()], workers=4, local_scheduler=True)


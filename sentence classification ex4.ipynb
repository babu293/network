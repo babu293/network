{
 "cells": [
  {
   "cell_type": "code",
   "execution_count": 1,
   "id": "bfb23b1d",
   "metadata": {},
   "outputs": [],
   "source": [
    "import numpy as np\n",
    "import tensorflow as tf\n",
    "from keras.datasets import imdb\n",
    "from keras.preprocessing import sequence\n",
    "from keras.layers import Dense, Dropout, Embedding, Conv1D, GlobalMaxPooling1D\n",
    "from keras.models import Sequential"
   ]
  },
  {
   "cell_type": "code",
   "execution_count": 2,
   "id": "121071a8",
   "metadata": {},
   "outputs": [],
   "source": [
    "# Set the seed value for reproducibility\n",
    "np.random.seed(42)\n",
    "\n",
    "# Load the IMDB dataset\n",
    "max_features = 20000  # maximum number of words to include in the vocabulary\n",
    "maxlen = 400  # maximum length of a review (in words)\n",
    "(x_train, y_train), (x_test, y_test) = imdb.load_data(num_words=max_features)\n",
    "x_train = tf.keras.preprocessing.sequence.pad_sequences(x_train, maxlen=maxlen)\n",
    "x_test = tf.keras.preprocessing.sequence.pad_sequences(x_test, maxlen=maxlen)\n",
    "\n",
    "# Define the model architecture\n",
    "embedding_size = 128\n",
    "filters = 250\n",
    "kernel_size = 3\n",
    "hidden_dims = 250\n",
    "model = Sequential()\n",
    "model.add(Embedding(max_features, embedding_size, input_length=maxlen))\n",
    "model.add(Dropout(0.2))\n",
    "model.add(Conv1D(filters, kernel_size, padding='valid', activation='relu', strides=1))\n",
    "model.add(GlobalMaxPooling1D())\n",
    "model.add(Dense(hidden_dims, activation='relu'))\n",
    "model.add(Dropout(0.2))\n",
    "model.add(Dense(1, activation='sigmoid'))\n",
    "\n",
    "# Compile the model\n",
    "model.compile(loss='binary_crossentropy', optimizer='adam', metrics=['accuracy'])"
   ]
  },
  {
   "cell_type": "code",
   "execution_count": 3,
   "id": "818bb2a9",
   "metadata": {},
   "outputs": [
    {
     "name": "stdout",
     "output_type": "stream",
     "text": [
      "Epoch 1/2\n",
      "782/782 [==============================] - 100s 126ms/step - loss: 0.3795 - accuracy: 0.8158 - val_loss: 0.2569 - val_accuracy: 0.8911\n",
      "Epoch 2/2\n",
      "782/782 [==============================] - 97s 124ms/step - loss: 0.1709 - accuracy: 0.9356 - val_loss: 0.2723 - val_accuracy: 0.8915\n",
      "782/782 [==============================] - 10s 13ms/step - loss: 0.2723 - accuracy: 0.8915\n",
      "Test score: 0.27233922481536865\n",
      "Test accuracy: 0.8915200233459473\n"
     ]
    }
   ],
   "source": [
    "# Train the model\n",
    "batch_size = 32\n",
    "epochs = 2\n",
    "model.fit(x_train, y_train, batch_size=batch_size, epochs=epochs, validation_data=(x_test, y_test))\n",
    "\n",
    "# Evaluate the model on the test set\n",
    "score, acc = model.evaluate(x_test, y_test, batch_size=batch_size)\n",
    "print('Test score:', score)\n",
    "print('Test accuracy:', acc)"
   ]
  },
  {
   "cell_type": "code",
   "execution_count": 13,
   "id": "902ae383",
   "metadata": {},
   "outputs": [
    {
     "name": "stdout",
     "output_type": "stream",
     "text": [
      "Enter a movie review: you are a good boy\n",
      "1/1 [==============================] - 0s 17ms/step\n",
      "Positive review\n"
     ]
    }
   ],
   "source": [
    "from keras.preprocessing import sequence\n",
    "max_len = 400\n",
    "vocab = {k:(v+3) for k,v in tf.keras.datasets.imdb.get_word_index().items()}\n",
    "review = tf.keras.preprocessing.sequence.pad_sequences([[vocab.get(w.lower(), 2) for w in input(\"Enter a movie review: \").split()]], maxlen=maxlen)\n",
    "print(\"Positive review\" if model.predict(review)[0][0] >= 0.5 else \"Negative review\")"
   ]
  },
  {
   "cell_type": "code",
   "execution_count": null,
   "id": "b574f6c1",
   "metadata": {},
   "outputs": [],
   "source": []
  }
 ],
 "metadata": {
  "kernelspec": {
   "display_name": "Python 3 (ipykernel)",
   "language": "python",
   "name": "python3"
  },
  "language_info": {
   "codemirror_mode": {
    "name": "ipython",
    "version": 3
   },
   "file_extension": ".py",
   "mimetype": "text/x-python",
   "name": "python",
   "nbconvert_exporter": "python",
   "pygments_lexer": "ipython3",
   "version": "3.10.9"
  }
 },
 "nbformat": 4,
 "nbformat_minor": 5
}
